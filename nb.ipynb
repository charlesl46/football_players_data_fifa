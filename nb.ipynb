{
 "cells": [
  {
   "cell_type": "code",
   "execution_count": 114,
   "metadata": {},
   "outputs": [
    {
     "name": "stdout",
     "output_type": "stream",
     "text": [
      "Index(['name', 'full_name', 'birth_date', 'age', 'height_cm', 'weight_kgs',\n",
      "       'positions', 'nationality', 'overall_rating', 'potential', 'value_euro',\n",
      "       'wage_euro', 'preferred_foot', 'international_reputation(1-5)',\n",
      "       'weak_foot(1-5)', 'skill_moves(1-5)', 'body_type',\n",
      "       'release_clause_euro', 'national_team', 'national_rating',\n",
      "       'national_team_position', 'national_jersey_number', 'crossing',\n",
      "       'finishing', 'heading_accuracy', 'short_passing', 'volleys',\n",
      "       'dribbling', 'curve', 'freekick_accuracy', 'long_passing',\n",
      "       'ball_control', 'acceleration', 'sprint_speed', 'agility', 'reactions',\n",
      "       'balance', 'shot_power', 'jumping', 'stamina', 'strength', 'long_shots',\n",
      "       'aggression', 'interceptions', 'positioning', 'vision', 'penalties',\n",
      "       'composure', 'marking', 'standing_tackle', 'sliding_tackle'],\n",
      "      dtype='object')\n",
      "Data on 17954 players, 51 features\n"
     ]
    }
   ],
   "source": [
    "import pandas as pd\n",
    "import numpy as np\n",
    "\n",
    "df = pd.read_csv(\"data.csv\")\n",
    "print(df.columns)\n",
    "print(f\"Data on {df.shape[0]} players, {df.shape[1]} features\")"
   ]
  },
  {
   "cell_type": "code",
   "execution_count": 115,
   "metadata": {},
   "outputs": [
    {
     "name": "stdout",
     "output_type": "stream",
     "text": [
      "Index(['age', 'height_cm', 'weight_kgs', 'positions', 'overall_rating',\n",
      "       'potential', 'value_euro', 'wage_euro', 'preferred_foot',\n",
      "       'international_reputation(1-5)', 'weak_foot(1-5)', 'skill_moves(1-5)',\n",
      "       'release_clause_euro', 'national_rating', 'national_jersey_number',\n",
      "       'crossing', 'finishing', 'heading_accuracy', 'short_passing', 'volleys',\n",
      "       'dribbling', 'curve', 'freekick_accuracy', 'long_passing',\n",
      "       'ball_control', 'acceleration', 'sprint_speed', 'agility', 'reactions',\n",
      "       'balance', 'shot_power', 'jumping', 'stamina', 'strength', 'long_shots',\n",
      "       'aggression', 'interceptions', 'positioning', 'vision', 'penalties',\n",
      "       'composure', 'marking', 'standing_tackle', 'sliding_tackle'],\n",
      "      dtype='object')\n"
     ]
    }
   ],
   "source": [
    "df = df.drop([\"name\",\"full_name\",\"birth_date\",\"national_team\",\"national_team_position\",\"body_type\",\"nationality\"],axis=1)\n",
    "print(df.columns)"
   ]
  },
  {
   "cell_type": "markdown",
   "metadata": {},
   "source": [
    "Transformation de la feature positions pour ne garder que la première position"
   ]
  },
  {
   "cell_type": "code",
   "execution_count": 116,
   "metadata": {},
   "outputs": [
    {
     "name": "stdout",
     "output_type": "stream",
     "text": [
      "0         CF\n",
      "1        CAM\n",
      "2         CM\n",
      "3         LW\n",
      "4         CB\n",
      "        ... \n",
      "17949     RM\n",
      "17950     LB\n",
      "17951     GK\n",
      "17952     ST\n",
      "17953     ST\n",
      "Name: positions, Length: 17954, dtype: object\n"
     ]
    }
   ],
   "source": [
    "newpositions = []\n",
    "for value in df[\"positions\"].values:\n",
    "    newpositions.append(value.split(\",\")[0])\n",
    "df[\"positions\"] = newpositions\n",
    "print(df[\"positions\"])"
   ]
  },
  {
   "cell_type": "code",
   "execution_count": 117,
   "metadata": {},
   "outputs": [
    {
     "name": "stdout",
     "output_type": "stream",
     "text": [
      "{'GK': 0.0, 'CB': 0.07142857142857142, 'LB': 0.14285714285714285, 'LWB': 0.21428571428571427, 'RB': 0.2857142857142857, 'RWB': 0.3571428571428571, 'CDM': 0.42857142857142855, 'LM': 0.5, 'RM': 0.5714285714285714, 'CM': 0.6428571428571428, 'CAM': 0.7142857142857142, 'RW': 0.7857142857142857, 'LW': 0.8571428571428571, 'CF': 0.9285714285714285, 'ST': 1.0}\n"
     ]
    }
   ],
   "source": [
    "positions = [\"GK\",\"CB\",\"LB\",\"LWB\",\"RB\",\"RWB\",\"CDM\",\"LM\",\"RM\",\"CM\",\"CAM\",\"RW\",\"LW\",\"CF\",\"ST\"]\n",
    "positions_dict = {post : number for post,number in zip(positions,np.linspace(0,1,len(positions)))}"
   ]
  },
  {
   "cell_type": "code",
   "execution_count": 118,
   "metadata": {},
   "outputs": [
    {
     "name": "stdout",
     "output_type": "stream",
     "text": [
      "0        0.928571\n",
      "1        0.714286\n",
      "2        0.642857\n",
      "3        0.857143\n",
      "4        0.071429\n",
      "           ...   \n",
      "17949    0.571429\n",
      "17950    0.142857\n",
      "17951    0.000000\n",
      "17952    1.000000\n",
      "17953    1.000000\n",
      "Name: positions, Length: 17954, dtype: float64\n"
     ]
    }
   ],
   "source": [
    "df['positions'] = df['positions'].map(positions_dict)"
   ]
  },
  {
   "cell_type": "code",
   "execution_count": 119,
   "metadata": {},
   "outputs": [
    {
     "name": "stdout",
     "output_type": "stream",
     "text": [
      "0        0\n",
      "1        1\n",
      "2        1\n",
      "3        1\n",
      "4        1\n",
      "        ..\n",
      "17949    1\n",
      "17950    0\n",
      "17951    1\n",
      "17952    1\n",
      "17953    1\n",
      "Name: preferred_foot, Length: 17954, dtype: int64\n"
     ]
    }
   ],
   "source": [
    "df[\"preferred_foot\"] = df[\"preferred_foot\"].map({\"Left\" : 0,\"Right\" : 1})"
   ]
  },
  {
   "cell_type": "markdown",
   "metadata": {},
   "source": [
    "Normalisation"
   ]
  },
  {
   "cell_type": "code",
   "execution_count": 127,
   "metadata": {},
   "outputs": [],
   "source": [
    "from sklearn.preprocessing import StandardScaler\n",
    "scaler = StandardScaler()\n",
    "X_scaled = scaler.fit_transform(df)\n",
    "df_scaled = pd.DataFrame(X_scaled, columns=df.columns)"
   ]
  },
  {
   "cell_type": "markdown",
   "metadata": {},
   "source": [
    "Régression"
   ]
  },
  {
   "cell_type": "code",
   "execution_count": 128,
   "metadata": {},
   "outputs": [],
   "source": [
    "from sklearn.model_selection import train_test_split\n",
    "from sklearn.linear_model import LinearRegression\n",
    "from sklearn.metrics import mean_squared_error, r2_score\n",
    "import pandas as pd\n",
    "\n",
    "X = df_scaled.drop([\"overall_rating\"],axis=1)\n",
    "y = df_scaled[\"overall_rating\"]"
   ]
  },
  {
   "cell_type": "code",
   "execution_count": 129,
   "metadata": {},
   "outputs": [],
   "source": [
    "# check for NaN values \n",
    "for column in df.columns:\n",
    "    if (df_scaled[column].isnull().values.any()):\n",
    "        df_scaled = df_scaled.drop(column,axis=1)\n",
    "\n",
    "if not df.isnull().values.any():\n",
    "    raise Exception(\"still null values\")\n",
    "\n",
    "X = df_scaled.drop([\"overall_rating\"],axis=1)\n",
    "y = df_scaled[\"overall_rating\"]"
   ]
  },
  {
   "cell_type": "code",
   "execution_count": 137,
   "metadata": {},
   "outputs": [
    {
     "data": {
      "text/html": [
       "<style>#sk-container-id-2 {color: black;}#sk-container-id-2 pre{padding: 0;}#sk-container-id-2 div.sk-toggleable {background-color: white;}#sk-container-id-2 label.sk-toggleable__label {cursor: pointer;display: block;width: 100%;margin-bottom: 0;padding: 0.3em;box-sizing: border-box;text-align: center;}#sk-container-id-2 label.sk-toggleable__label-arrow:before {content: \"▸\";float: left;margin-right: 0.25em;color: #696969;}#sk-container-id-2 label.sk-toggleable__label-arrow:hover:before {color: black;}#sk-container-id-2 div.sk-estimator:hover label.sk-toggleable__label-arrow:before {color: black;}#sk-container-id-2 div.sk-toggleable__content {max-height: 0;max-width: 0;overflow: hidden;text-align: left;background-color: #f0f8ff;}#sk-container-id-2 div.sk-toggleable__content pre {margin: 0.2em;color: black;border-radius: 0.25em;background-color: #f0f8ff;}#sk-container-id-2 input.sk-toggleable__control:checked~div.sk-toggleable__content {max-height: 200px;max-width: 100%;overflow: auto;}#sk-container-id-2 input.sk-toggleable__control:checked~label.sk-toggleable__label-arrow:before {content: \"▾\";}#sk-container-id-2 div.sk-estimator input.sk-toggleable__control:checked~label.sk-toggleable__label {background-color: #d4ebff;}#sk-container-id-2 div.sk-label input.sk-toggleable__control:checked~label.sk-toggleable__label {background-color: #d4ebff;}#sk-container-id-2 input.sk-hidden--visually {border: 0;clip: rect(1px 1px 1px 1px);clip: rect(1px, 1px, 1px, 1px);height: 1px;margin: -1px;overflow: hidden;padding: 0;position: absolute;width: 1px;}#sk-container-id-2 div.sk-estimator {font-family: monospace;background-color: #f0f8ff;border: 1px dotted black;border-radius: 0.25em;box-sizing: border-box;margin-bottom: 0.5em;}#sk-container-id-2 div.sk-estimator:hover {background-color: #d4ebff;}#sk-container-id-2 div.sk-parallel-item::after {content: \"\";width: 100%;border-bottom: 1px solid gray;flex-grow: 1;}#sk-container-id-2 div.sk-label:hover label.sk-toggleable__label {background-color: #d4ebff;}#sk-container-id-2 div.sk-serial::before {content: \"\";position: absolute;border-left: 1px solid gray;box-sizing: border-box;top: 0;bottom: 0;left: 50%;z-index: 0;}#sk-container-id-2 div.sk-serial {display: flex;flex-direction: column;align-items: center;background-color: white;padding-right: 0.2em;padding-left: 0.2em;position: relative;}#sk-container-id-2 div.sk-item {position: relative;z-index: 1;}#sk-container-id-2 div.sk-parallel {display: flex;align-items: stretch;justify-content: center;background-color: white;position: relative;}#sk-container-id-2 div.sk-item::before, #sk-container-id-2 div.sk-parallel-item::before {content: \"\";position: absolute;border-left: 1px solid gray;box-sizing: border-box;top: 0;bottom: 0;left: 50%;z-index: -1;}#sk-container-id-2 div.sk-parallel-item {display: flex;flex-direction: column;z-index: 1;position: relative;background-color: white;}#sk-container-id-2 div.sk-parallel-item:first-child::after {align-self: flex-end;width: 50%;}#sk-container-id-2 div.sk-parallel-item:last-child::after {align-self: flex-start;width: 50%;}#sk-container-id-2 div.sk-parallel-item:only-child::after {width: 0;}#sk-container-id-2 div.sk-dashed-wrapped {border: 1px dashed gray;margin: 0 0.4em 0.5em 0.4em;box-sizing: border-box;padding-bottom: 0.4em;background-color: white;}#sk-container-id-2 div.sk-label label {font-family: monospace;font-weight: bold;display: inline-block;line-height: 1.2em;}#sk-container-id-2 div.sk-label-container {text-align: center;}#sk-container-id-2 div.sk-container {/* jupyter's `normalize.less` sets `[hidden] { display: none; }` but bootstrap.min.css set `[hidden] { display: none !important; }` so we also need the `!important` here to be able to override the default hidden behavior on the sphinx rendered scikit-learn.org. See: https://github.com/scikit-learn/scikit-learn/issues/21755 */display: inline-block !important;position: relative;}#sk-container-id-2 div.sk-text-repr-fallback {display: none;}</style><div id=\"sk-container-id-2\" class=\"sk-top-container\"><div class=\"sk-text-repr-fallback\"><pre>LinearRegression()</pre><b>In a Jupyter environment, please rerun this cell to show the HTML representation or trust the notebook. <br />On GitHub, the HTML representation is unable to render, please try loading this page with nbviewer.org.</b></div><div class=\"sk-container\" hidden><div class=\"sk-item\"><div class=\"sk-estimator sk-toggleable\"><input class=\"sk-toggleable__control sk-hidden--visually\" id=\"sk-estimator-id-2\" type=\"checkbox\" checked><label for=\"sk-estimator-id-2\" class=\"sk-toggleable__label sk-toggleable__label-arrow\">LinearRegression</label><div class=\"sk-toggleable__content\"><pre>LinearRegression()</pre></div></div></div></div></div>"
      ],
      "text/plain": [
       "LinearRegression()"
      ]
     },
     "execution_count": 137,
     "metadata": {},
     "output_type": "execute_result"
    }
   ],
   "source": [
    "X_train, X_test, y_train, y_test = train_test_split(X, y, test_size=0.2, random_state=42)\n",
    "model = LinearRegression()\n",
    "model.fit(X_train, y_train)"
   ]
  },
  {
   "cell_type": "code",
   "execution_count": 143,
   "metadata": {},
   "outputs": [
    {
     "name": "stdout",
     "output_type": "stream",
     "text": [
      "Mean Squared Error: 0.0816215162074169\n",
      "R^2 Score: 0.920805771350298\n"
     ]
    }
   ],
   "source": [
    "y_pred = model.predict(X_test)\n",
    "\n",
    "mse = mean_squared_error(y_test, y_pred)\n",
    "r2 = r2_score(y_test, y_pred)\n",
    "\n",
    "print(f\"Mean Squared Error: {mse}\")\n",
    "print(f\"R^2 Score: {r2}\")"
   ]
  },
  {
   "cell_type": "markdown",
   "metadata": {},
   "source": [
    "Exemple avec messi"
   ]
  },
  {
   "cell_type": "code",
   "execution_count": 144,
   "metadata": {},
   "outputs": [
    {
     "name": "stdout",
     "output_type": "stream",
     "text": [
      "[ 1.15491792 -0.33978909 -0.45190277  1.43983616  3.68103828 -1.81725626\n",
      "  9.91522846  1.58859173  2.14748869  1.96411457  2.52755259  1.01886029\n",
      "  2.24951039  2.4291497   2.1853364   2.4761865   2.9212345   2.35602748\n",
      "  2.23855057  1.75347675  1.43975093  2.00063951  3.65582144  2.19632616\n",
      "  1.71059007  0.26011798  0.55702055  0.06710083  2.42668374 -0.44939219\n",
      " -1.1881023   2.24145576  2.86767181  1.68513713  3.21024678 -0.70684287\n",
      " -0.91043202 -0.92580278] 3.9864562009997275\n",
      "prediction = 4.142105087176791, true = 3.9864562009997275\n"
     ]
    },
    {
     "name": "stderr",
     "output_type": "stream",
     "text": [
      "/opt/homebrew/lib/python3.11/site-packages/sklearn/base.py:464: UserWarning: X does not have valid feature names, but LinearRegression was fitted with feature names\n",
      "  warnings.warn(\n"
     ]
    }
   ],
   "source": [
    "messi = X.values[0]\n",
    "messi_true_rating = y.values[0]\n",
    "print(messi,messi_true_rating)\n",
    "messi = messi.reshape(1, -1)\n",
    "messi_predicted_rating = model.predict(messi)\n",
    "print(f\"prediction = {messi_predicted_rating[0]}, true = {messi_true_rating}\")"
   ]
  }
 ],
 "metadata": {
  "kernelspec": {
   "display_name": "Python 3",
   "language": "python",
   "name": "python3"
  },
  "language_info": {
   "codemirror_mode": {
    "name": "ipython",
    "version": 3
   },
   "file_extension": ".py",
   "mimetype": "text/x-python",
   "name": "python",
   "nbconvert_exporter": "python",
   "pygments_lexer": "ipython3",
   "version": "3.11.6"
  }
 },
 "nbformat": 4,
 "nbformat_minor": 2
}
